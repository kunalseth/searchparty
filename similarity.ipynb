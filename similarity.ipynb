{
 "cells": [
  {
   "cell_type": "code",
   "execution_count": 1,
   "metadata": {
    "collapsed": true
   },
   "outputs": [],
   "source": [
    "import pandas as pd\n",
    "import numpy as np\n",
    "from sklearn.feature_extraction.text import TfidfVectorizer\n",
    "from sklearn.metrics.pairwise import cosine_similarity"
   ]
  },
  {
   "cell_type": "code",
   "execution_count": 2,
   "metadata": {
    "collapsed": false
   },
   "outputs": [],
   "source": [
    "data = pd.read_csv(\"data.csv\",encoding='ISO-8859-1')"
   ]
  },
  {
   "cell_type": "code",
   "execution_count": 3,
   "metadata": {
    "collapsed": false
   },
   "outputs": [
    {
     "name": "stdout",
     "output_type": "stream",
     "text": [
      "<class 'pandas.core.frame.DataFrame'>\n",
      "RangeIndex: 48488 entries, 0 to 48487\n",
      "Columns: 130 entries, Unnamed: 0 to PitchBook Link\n",
      "dtypes: float64(58), int64(1), object(71)\n",
      "memory usage: 48.1+ MB\n",
      "None\n",
      "['Unnamed: 0' 'Company ID' 'Company Name' 'Company Former Name'\n",
      " 'Company Also Known As' 'PBId' 'Description' 'Primary Industry Sector'\n",
      " 'Primary Industry Group' 'Primary Industry Code' 'All Industries'\n",
      " 'Industry Vertical' 'Company Financing Status' 'Total Raised'\n",
      " 'Business Status' 'Ownership Status' 'Universe' 'Website' 'Employees'\n",
      " 'Exchange' 'Ticker' 'Year Founded' 'Parent Company' 'Daily Updates'\n",
      " 'Weekly Updates' 'Revenue' 'Gross Profit' 'Net Income' 'Enterprise Value'\n",
      " 'EBITDA' 'Fiscal Period' 'Primary Contact PBId' 'Primary Contact'\n",
      " 'Primary Contact Title' 'Primary Contact Email' 'Primary Contact Phone'\n",
      " 'HQ Location' 'HQ Address Line 1' 'HQ Address Line 2' 'HQ City'\n",
      " 'HQ State/Province' 'HQ Post Code' 'HQ Country' 'HQ Phone' 'HQ Fax'\n",
      " 'HQ Email' 'HQ Global Region' 'HQ Global Sub Region'\n",
      " 'Financing Status Note' 'Active Investors' '# Active Investors'\n",
      " 'Acquirers' 'Former Investors' 'Other Investors'\n",
      " 'Active Investors Websites' 'Former Investors Websites'\n",
      " 'Other Investors Websites' 'General Services' 'Services on a Deal'\n",
      " 'First Financing Date' 'First Financing Size'\n",
      " 'First Financing Size Status' 'First Financing Valuation'\n",
      " 'First Financing Valuation Status' 'First Financing Deal Type'\n",
      " 'First Financing Deal Type 2' 'First Financing Deal Type 3'\n",
      " 'First Financing Deal Class' 'First Financing Debt Type'\n",
      " 'First Financing Debt Type 2' 'First Financing Debt Type 3'\n",
      " 'First Financing Status' 'Last Financing Date' 'Last Financing Size'\n",
      " 'Last Financing Size Status' 'Last Financing Valuation'\n",
      " 'Last Financing Valuation Status' 'Last Financing Deal Type'\n",
      " 'Last Financing Deal Type 2 ' 'Last Financing Deal Type 3'\n",
      " 'Last Financing Deal Class' 'Last Financing Debt Type'\n",
      " 'Last Financing Debt Type 2' 'Last Financing Debt Type 3'\n",
      " 'Last Financing Status' 'Growth Rate' 'Growth Rate Percentile'\n",
      " 'Growth Rate Change' 'Growth Rate % Change' 'Web Growth Rate'\n",
      " 'Web Growth Rate Percentile' 'Social Growth Rate'\n",
      " 'Social Growth Rate Percentile' 'Compete Growth Rate'\n",
      " 'Compete Growth Rate Percentile' 'Majestic Growth Rate'\n",
      " 'Majestic Growth Rate Percentile' 'Facebook Growth Rate'\n",
      " 'Facebook Growth Rate Percentile' 'Twitter Growth Rate'\n",
      " 'Twitter Growth Rate Percentile' 'Size Multiple'\n",
      " 'Size Multiple Percentile' 'Size Multiple Change' 'Size Multiple % Change'\n",
      " 'Web Size Multiple' 'Web Size Multiple Percentile' 'Social Size Multiple'\n",
      " 'Social Size Multiple Percentile' 'Compete Size Multiple'\n",
      " 'Compete Size Multiple Percentile' 'Majestic Size Multiple'\n",
      " 'Majestic Size Multiple Percentile' 'Facebook Size Multiple'\n",
      " 'Facebook Size Multiple Percentile' 'Twitter Size Multiple'\n",
      " 'Twitter Size Multiple Percentile' 'Compete Unique Visitors'\n",
      " 'Compete Unique Visitors Change' 'Compete Unique Visitors % Change'\n",
      " 'Facebook Likes' 'Facebook Likes Change' 'Facebook Likes % Change'\n",
      " 'Majestic Referring Domains' 'Majestic Referring Domains Change'\n",
      " 'Majestic Referring Domains % Change' 'Twitter Followers'\n",
      " 'Twitter Followers Change' 'Twitter Followers % Change' 'PitchBook Link']\n"
     ]
    }
   ],
   "source": [
    "print(data.info())\n",
    "print(data.columns.values)"
   ]
  },
  {
   "cell_type": "code",
   "execution_count": 4,
   "metadata": {
    "collapsed": false
   },
   "outputs": [],
   "source": [
    "def preprocess_data(df):\n",
    "    \n",
    "    cols = ['Description', 'Primary Industry Sector','Primary Industry Group', 'All Industries',\n",
    "            'Industry Vertical', 'Company Financing Status', 'Business Status', 'Ownership Status', \n",
    "            'Financing Status Note', 'Active Investors', 'Acquirers', 'Former Investors', \n",
    "           'General Services']\n",
    "    \n",
    "    feature_string = df[cols]\n",
    "    feature_string = feature_string[feature_string.columns[1:]].apply(lambda x: ','.join(x.dropna().astype(str)),axis=1)\n",
    "    df['feature_string'] = feature_string\n",
    "    tfidf_vectorizer = TfidfVectorizer()\n",
    "    tfidf_matrix = tfidf_vectorizer.fit_transform(df['feature_string'])\n",
    "\n",
    "    return tfidf_matrix"
   ]
  },
  {
   "cell_type": "code",
   "execution_count": 7,
   "metadata": {
    "collapsed": false
   },
   "outputs": [],
   "source": [
    "tfidf_matrix = preprocess_data(data)"
   ]
  },
  {
   "cell_type": "code",
   "execution_count": 8,
   "metadata": {
    "collapsed": false
   },
   "outputs": [
    {
     "name": "stdout",
     "output_type": "stream",
     "text": [
      "\n",
      "\n",
      "Top 10 companies similar to: Roho (Religious Content) \n",
      "\n",
      "3        Roho (Religious Content)\n",
      "22302                     OK Play\n",
      "1887                     Onekloud\n",
      "34859              Get Lighthouse\n",
      "23666               Level Therapy\n",
      "11038                    LeapCure\n",
      "13552                 BIGcontrols\n",
      "24656                     Homebot\n",
      "32813                   Treat App\n",
      "9839                 HeavyConnect\n",
      "Name: Company Name, dtype: object \n",
      "\n",
      " Similarity Scores:  [1.0, 0.81638974136768094, 0.79551538977863667, 0.78481783275244388, 0.71323090989866522, 0.7098435134835499, 0.69292051235861907, 0.68504600800077176, 0.68028221305085901, 0.67702748372595734]\n",
      "\n",
      "\n",
      "Top 10 companies similar to: 13th Floor Studios \n",
      "\n",
      "48482    13th Floor Studios\n",
      "27413              Careeref\n",
      "36976            SociGroups\n",
      "43257     Short Stay Global\n",
      "32359        Smile Stations\n",
      "47609                Brella\n",
      "9378      Penny Stock Dream\n",
      "19649            TaskBiller\n",
      "42253            Videoscore\n",
      "42481          Trio Rewards\n",
      "Name: Company Name, dtype: object \n",
      "\n",
      " Similarity Scores:  [1.0000000000000002, 0.73657288259941045, 0.70864136774016773, 0.68753766214849243, 0.68323750981686193, 0.65762334791539911, 0.65419615563236344, 0.6458283629595386, 0.6425636219386559, 0.63201960545435176]\n",
      "\n",
      "\n",
      "Top 10 companies similar to: 21st Century Newspapers \n",
      "\n",
      "48476                      21st Century Newspapers\n",
      "44425                                  Nurses 24/7\n",
      "11523                              The Daily Voice\n",
      "27817                                    BitsPoker\n",
      "44444                           Now Communications\n",
      "23098                                    MicroEval\n",
      "44566    Network Commerce (e-commerce outsourcing)\n",
      "33700                                      Tomsten\n",
      "39317                                         mEgo\n",
      "43607                           Restora Healthcare\n",
      "Name: Company Name, dtype: object \n",
      "\n",
      " Similarity Scores:  [0.99999999999999978, 0.54017708506914752, 0.53539672262310345, 0.51531130783542933, 0.50613281491717077, 0.50315540931076175, 0.49724280009673866, 0.49394638333156504, 0.48923815452284147, 0.48852219436774535]\n"
     ]
    }
   ],
   "source": [
    "def similar_comp(company_name, tfidf, top_n):\n",
    "    \n",
    "    index = data[data['Company Name'] == company_name].index\n",
    "    similarity_scores = cosine_similarity(tfidf[index], tfidf)\n",
    "    similar_idx = sorted(range(len(similarity_scores[0])), key=lambda i: similarity_scores[0][i],reverse=True)[:top_n]\n",
    "    scores= sorted(similarity_scores[0], reverse=True)[:top_n]\n",
    "    print(\"\\n\\nTop %d companies similar to: %s \\n\" %(top_n, company_name))\n",
    "    print(data['Company Name'][similar_idx],\"\\n\\n\", \"Similarity Scores: \", scores)\n",
    "\n",
    "    \n",
    "similar_comp(\"Roho (Religious Content)\",tfidf_matrix,10)\n",
    "similar_comp(\"13th Floor Studios\",tfidf_matrix,10)\n",
    "similar_comp(\"21st Century Newspapers\",tfidf_matrix,10)\n"
   ]
  },
  {
   "cell_type": "code",
   "execution_count": null,
   "metadata": {
    "collapsed": false
   },
   "outputs": [],
   "source": []
  },
  {
   "cell_type": "code",
   "execution_count": null,
   "metadata": {
    "collapsed": false
   },
   "outputs": [],
   "source": []
  },
  {
   "cell_type": "code",
   "execution_count": null,
   "metadata": {
    "collapsed": false
   },
   "outputs": [],
   "source": []
  },
  {
   "cell_type": "code",
   "execution_count": null,
   "metadata": {
    "collapsed": true
   },
   "outputs": [],
   "source": []
  }
 ],
 "metadata": {
  "kernelspec": {
   "display_name": "Python 3",
   "language": "python",
   "name": "python3"
  },
  "language_info": {
   "codemirror_mode": {
    "name": "ipython",
    "version": 3
   },
   "file_extension": ".py",
   "mimetype": "text/x-python",
   "name": "python",
   "nbconvert_exporter": "python",
   "pygments_lexer": "ipython3",
   "version": "3.6.0"
  }
 },
 "nbformat": 4,
 "nbformat_minor": 2
}
